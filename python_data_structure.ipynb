{
  "nbformat": 4,
  "nbformat_minor": 0,
  "metadata": {
    "colab": {
      "provenance": []
    },
    "kernelspec": {
      "name": "python3",
      "display_name": "Python 3"
    },
    "language_info": {
      "name": "python"
    }
  },
  "cells": [
    {
      "cell_type": "markdown",
      "source": [
        "# DATA TYPES AND STRUCTURE QUESTIONS.\n",
        "\n",
        "#Theory questions\n",
        "\n",
        "\n",
        "1. What are data structures, and why are they important?\n",
        "-\n",
        "Data structures are ways of organizing and storing data so that we can use it efficiently. They help in easy access, modification, and management of data. Common ones include arrays, lists, stacks, queues, trees, and graphs. They are important because they make our programs more efficient and easier to understand and maintain.\n",
        "\n",
        "2. Explain the difference between mutable and immutable data types with examples.\n",
        "-\n",
        "Mutable data types can be changed after creation, like lists and dictionaries.\n",
        "Example:"
      ],
      "metadata": {
        "id": "oEIOXXt_nhoK"
      }
    },
    {
      "cell_type": "code",
      "source": [
        "a = [1, 2, 3]\n",
        "a[0] = 10  # This is allowed\n"
      ],
      "metadata": {
        "id": "95Hupzy5pZ4j"
      },
      "execution_count": 1,
      "outputs": []
    },
    {
      "cell_type": "markdown",
      "source": [
        "Immutable data types can’t be changed once created, like strings and tuples.\n",
        "Example:"
      ],
      "metadata": {
        "id": "cMeZP6HyplE2"
      }
    },
    {
      "cell_type": "code",
      "source": [
        "s = \"hello\"\n",
        "# s[0] = 'H'  # This will give an error\n"
      ],
      "metadata": {
        "id": "oA0Hhf2HpqTl"
      },
      "execution_count": 2,
      "outputs": []
    },
    {
      "cell_type": "markdown",
      "source": [
        "3. What are the main differences between lists and tuples in Python?\n",
        "-\n",
        "\n",
        " **Mutability**: Lists are mutable, tuples are not.\n",
        "\n",
        "    **Syntax**: Lists use [], tuples use ().\n",
        "\n",
        "     **Performance**: Tuples are slightly faster and use less memory.\n",
        "\n",
        "     **Use case**: Tuples are preferred when data should not be changed.\n",
        "\n",
        "4. Describe how dictionaries store data.\n",
        "-\n",
        "Dictionaries store data in key-value pairs.\n",
        "\n",
        "-  Each key maps to a value. Behind the scenes, Python uses a hash table to manage this mapping efficiently.\n",
        "\n",
        "5. Why might you use a set instead of a list in Python?\n",
        "-\n",
        "Sets are used when we need only unique values and don’t care about order. Also, checking membership (in) is faster in sets compared to lists.\n",
        "\n",
        "6. What is a string in Python, and how is it different from a list?\n",
        "-\n",
        "A string is a sequence of characters, while a list can store different data types. Also, strings are immutable; lists are mutable.\n",
        "Example:\n"
      ],
      "metadata": {
        "id": "SSv0JyUCpxru"
      }
    },
    {
      "cell_type": "code",
      "execution_count": 3,
      "metadata": {
        "id": "EWJrf2BwnPGb"
      },
      "outputs": [],
      "source": [
        "s = \"hello\"\n",
        "l = ['h', 'e', 'l', 'l', 'o']\n"
      ]
    },
    {
      "cell_type": "markdown",
      "source": [
        "7. How do tuples ensure data integrity in Python?\n",
        "Since tuples are immutable, their data can’t be changed accidentally. This helps maintain data integrity when you want to make sure the values stay constant.\n",
        "\n",
        "8. What is a hash table, and how does it relate to dictionaries in Python?\n",
        "A hash table is a data structure that stores data using a hash function. Python dictionaries use hash tables internally to store and retrieve data quickly by keys.\n",
        "\n",
        "9. Can lists contain different data types in Python?\n",
        "Yes, lists in Python are versatile and can hold elements of different types.\n",
        "Example:"
      ],
      "metadata": {
        "id": "-CqyhEK4qIRg"
      }
    },
    {
      "cell_type": "code",
      "source": [
        "l = [1, \"hello\", 3.14, True]\n"
      ],
      "metadata": {
        "id": "K-3JAFqvqQxR"
      },
      "execution_count": 4,
      "outputs": []
    },
    {
      "cell_type": "markdown",
      "source": [
        "\n",
        "10. Explain why strings are immutable in Python.\n",
        "-\n",
        "Strings are immutable for efficiency and security. This allows Python to reuse string objects, saving memory and making programs faster.\n",
        "\n",
        "11. What advantages do dictionaries offer over lists for certain tasks?\n",
        "-\n",
        "Dictionaries offer faster lookups (average O(1) time) and better structure when data is naturally organized in key-value pairs, like storing student names and their marks.\n",
        "\n",
        "12. Describe a scenario where using a tuple would be preferable over a list.\n",
        "-\n",
        "When you’re working with fixed data, like coordinates (x, y) or a date (day, month, year), tuples are preferred as they can’t be modified accidentally.\n",
        "\n",
        "13. How do sets handle duplicate values in Python?\n",
        "-\n",
        "Sets automatically remove duplicates.\n",
        "Example:"
      ],
      "metadata": {
        "id": "EJvSpOSZqWWo"
      }
    },
    {
      "cell_type": "code",
      "source": [
        "s = {1, 2, 2, 3}\n",
        "print(s)  # Output: {1, 2, 3}\n"
      ],
      "metadata": {
        "colab": {
          "base_uri": "https://localhost:8080/"
        },
        "id": "_4wq84VRqlay",
        "outputId": "a78de976-e885-4971-c22b-b4db43628fa8"
      },
      "execution_count": 5,
      "outputs": [
        {
          "output_type": "stream",
          "name": "stdout",
          "text": [
            "{1, 2, 3}\n"
          ]
        }
      ]
    },
    {
      "cell_type": "markdown",
      "source": [
        "14. How does the “in” keyword work differently for lists and dictionaries?\n",
        "-\n",
        "\n",
        "In lists, in checks if the value exists.\n",
        "\n",
        "    In dictionaries, in checks for the key, not the value.\n",
        "Example"
      ],
      "metadata": {
        "id": "efk2hjSLqpcx"
      }
    },
    {
      "cell_type": "code",
      "source": [
        "x = [1, 2, 3]\n",
        "print(2 in x)  # True\n",
        "\n",
        "y = {'a': 10, 'b': 20}\n",
        "print('a' in y)  # True\n",
        "print(10 in y)  # False\n"
      ],
      "metadata": {
        "colab": {
          "base_uri": "https://localhost:8080/"
        },
        "id": "JbgLUUnsqw3d",
        "outputId": "2862abcb-b008-47aa-849e-86cbdba791f4"
      },
      "execution_count": 6,
      "outputs": [
        {
          "output_type": "stream",
          "name": "stdout",
          "text": [
            "True\n",
            "True\n",
            "False\n"
          ]
        }
      ]
    },
    {
      "cell_type": "markdown",
      "source": [
        "15. Can you modify the elements of a tuple? Explain why or why not.\n",
        "-\n",
        "No, tuples are immutable, so once created, their elements can’t be changed. This helps ensure that the data remains constant throughout the program.\n",
        "\n",
        "16. What is a nested dictionary, and give an example of its use case.\n",
        "-\n",
        "A nested dictionary is a dictionary inside another dictionary.\n",
        "Example use case: storing student info by ID."
      ],
      "metadata": {
        "id": "9OQqEXc-q2b-"
      }
    },
    {
      "cell_type": "code",
      "source": [
        "students = {\n",
        "    101: {\"name\": \"Sanskriti\", \"age\": 21},\n",
        "    102: {\"name\": \"Shaurya\", \"age\": 22}\n",
        "}\n"
      ],
      "metadata": {
        "id": "1EOAGsYhq7PL"
      },
      "execution_count": 7,
      "outputs": []
    },
    {
      "cell_type": "markdown",
      "source": [
        "17. Describe the time complexity of accessing elements in a dictionary.\n",
        "-\n",
        "Accessing elements in a dictionary takes O(1) time on average, thanks to the hash table structure.\n",
        "\n",
        "18. In what situations are lists preferred over dictionaries?\n",
        "-\n",
        "When data doesn’t need to be labeled (i.e., no keys) and order matters, lists are preferred. For example, storing a series of steps or numbers.\n",
        "\n",
        "19. Why are dictionaries considered unordered, and how does that affect data retrieval?\n",
        "-\n",
        "Older versions of Python (<3.7) didn’t maintain insertion order in dictionaries. Even now, order isn’t guaranteed for logic. That’s why you should access data using keys, not positions.\n",
        "\n",
        "20. Explain the difference between a list and a dictionary in terms of data retrieval.\n",
        "-\n",
        "\n",
        "**List**: Data is accessed using index (position).\n",
        "\n",
        "  **Dictionary**: Data is accessed using keys.\n",
        "Example:"
      ],
      "metadata": {
        "id": "PDn_75wsrHu8"
      }
    },
    {
      "cell_type": "code",
      "source": [
        "l = [10, 20]     # l[0] = 10\n",
        "d = {'a': 10}    # d['a'] = 10\n"
      ],
      "metadata": {
        "id": "aN5unQJ4rJ4K"
      },
      "execution_count": 8,
      "outputs": []
    },
    {
      "cell_type": "markdown",
      "source": [
        "#pratical questions\n",
        "\n",
        "1. Create a string with your name and print it"
      ],
      "metadata": {
        "id": "RUAEJsG2tEdr"
      }
    },
    {
      "cell_type": "code",
      "source": [
        "name = \"Sanskriti Jaiswal\"\n",
        "print(name)\n"
      ],
      "metadata": {
        "colab": {
          "base_uri": "https://localhost:8080/"
        },
        "id": "-lQEvB1mtPNN",
        "outputId": "9abbbeb2-c7ec-4ddf-9f2a-1c45013cf880"
      },
      "execution_count": 9,
      "outputs": [
        {
          "output_type": "stream",
          "name": "stdout",
          "text": [
            "Sanskriti Jaiswal\n"
          ]
        }
      ]
    },
    {
      "cell_type": "markdown",
      "source": [
        "2. Write a code to find the length of the string \"Hello World\""
      ],
      "metadata": {
        "id": "xkp0sz4etT2z"
      }
    },
    {
      "cell_type": "code",
      "source": [
        "text = \"Hello World\"\n",
        "print(len(text))\n"
      ],
      "metadata": {
        "colab": {
          "base_uri": "https://localhost:8080/"
        },
        "id": "iG5vhHTmtdjl",
        "outputId": "bc4d8ede-e6e8-4603-ae9a-fa911b26c614"
      },
      "execution_count": 10,
      "outputs": [
        {
          "output_type": "stream",
          "name": "stdout",
          "text": [
            "11\n"
          ]
        }
      ]
    },
    {
      "cell_type": "markdown",
      "source": [
        "3. Write a code to slice the first 3 characters from the string \"Python Programming\"."
      ],
      "metadata": {
        "id": "Gg3gX-bNtpYq"
      }
    },
    {
      "cell_type": "code",
      "source": [
        "s = \"Python Programming\"\n",
        "print(s[:3])\n"
      ],
      "metadata": {
        "colab": {
          "base_uri": "https://localhost:8080/"
        },
        "id": "9WiaxMYltyf8",
        "outputId": "ee63d713-fb8b-40ac-f17f-32a746fce1ac"
      },
      "execution_count": 11,
      "outputs": [
        {
          "output_type": "stream",
          "name": "stdout",
          "text": [
            "Pyt\n"
          ]
        }
      ]
    },
    {
      "cell_type": "markdown",
      "source": [
        "4. Write a code to convert the string \"hello\" to uppercase."
      ],
      "metadata": {
        "id": "NFRFHbDvuIjk"
      }
    },
    {
      "cell_type": "code",
      "source": [
        "text = \"hello\"\n",
        "print(text.upper())\n"
      ],
      "metadata": {
        "colab": {
          "base_uri": "https://localhost:8080/"
        },
        "id": "ldzkmEHXuP8k",
        "outputId": "9fa30e29-8757-4a49-aa00-ecb6c7510f97"
      },
      "execution_count": 12,
      "outputs": [
        {
          "output_type": "stream",
          "name": "stdout",
          "text": [
            "HELLO\n"
          ]
        }
      ]
    },
    {
      "cell_type": "markdown",
      "source": [
        "5. Write a code to replace the word \"apple\" with \"orange\" in the string \"I like apple\"."
      ],
      "metadata": {
        "id": "DK2m_cuTudfN"
      }
    },
    {
      "cell_type": "code",
      "source": [
        "sentence = \"I like apple\"\n",
        "print(sentence.replace(\"apple\", \"orange\"))\n"
      ],
      "metadata": {
        "colab": {
          "base_uri": "https://localhost:8080/"
        },
        "id": "SbLCzJ6bueQU",
        "outputId": "ba4c207b-7991-4555-ec89-f18a2b421449"
      },
      "execution_count": 14,
      "outputs": [
        {
          "output_type": "stream",
          "name": "stdout",
          "text": [
            "I like orange\n"
          ]
        }
      ]
    },
    {
      "cell_type": "markdown",
      "source": [
        "6. Write a code to create a list with numbers 1 to 5 and print it."
      ],
      "metadata": {
        "id": "pWe6ZaHAu9p2"
      }
    },
    {
      "cell_type": "code",
      "source": [
        "numbers = [1, 2, 3, 4, 5]\n",
        "print(numbers)\n"
      ],
      "metadata": {
        "colab": {
          "base_uri": "https://localhost:8080/"
        },
        "id": "XcFOi2UivMBm",
        "outputId": "5e14501c-61b4-48cd-d57c-bc9359472f09"
      },
      "execution_count": 15,
      "outputs": [
        {
          "output_type": "stream",
          "name": "stdout",
          "text": [
            "[1, 2, 3, 4, 5]\n"
          ]
        }
      ]
    },
    {
      "cell_type": "markdown",
      "source": [
        "7. Write a code to append the number 10 to the list [1, 2, 3, 4]."
      ],
      "metadata": {
        "id": "R0NXcKUZvR6F"
      }
    },
    {
      "cell_type": "code",
      "source": [
        "lst = [1, 2, 3, 4]\n",
        "lst.append(10)\n",
        "print(lst)\n"
      ],
      "metadata": {
        "colab": {
          "base_uri": "https://localhost:8080/"
        },
        "id": "B7xlzymSvae1",
        "outputId": "82f1f160-0264-47b2-ceb5-7b6956117217"
      },
      "execution_count": 16,
      "outputs": [
        {
          "output_type": "stream",
          "name": "stdout",
          "text": [
            "[1, 2, 3, 4, 10]\n"
          ]
        }
      ]
    },
    {
      "cell_type": "markdown",
      "source": [
        "8. Write a code to remove the number 3 from the list [1, 2, 3, 4, 5]."
      ],
      "metadata": {
        "id": "i5tUm6VGvgYH"
      }
    },
    {
      "cell_type": "code",
      "source": [
        "lst = [1, 2, 3, 4, 5]\n",
        "lst.remove(3)\n",
        "print(lst)\n"
      ],
      "metadata": {
        "colab": {
          "base_uri": "https://localhost:8080/"
        },
        "id": "HWtJ3yU5vnIg",
        "outputId": "acd0d6ca-1e9f-47da-d7d7-de400d7e25c4"
      },
      "execution_count": 17,
      "outputs": [
        {
          "output_type": "stream",
          "name": "stdout",
          "text": [
            "[1, 2, 4, 5]\n"
          ]
        }
      ]
    },
    {
      "cell_type": "markdown",
      "source": [
        "9. Write a code to access the second element in the list ['a', 'b', 'c', 'd']."
      ],
      "metadata": {
        "id": "JaGA8SgAwIUl"
      }
    },
    {
      "cell_type": "code",
      "source": [
        "lst = ['a', 'b', 'c', 'd']\n",
        "print(lst[1])\n"
      ],
      "metadata": {
        "colab": {
          "base_uri": "https://localhost:8080/"
        },
        "id": "vrS8W3snwRAv",
        "outputId": "fe629dc3-e890-400a-942a-324ad8627126"
      },
      "execution_count": 18,
      "outputs": [
        {
          "output_type": "stream",
          "name": "stdout",
          "text": [
            "b\n"
          ]
        }
      ]
    },
    {
      "cell_type": "markdown",
      "source": [
        "10. Write a code to reverse the list [10, 20, 30, 40, 50]."
      ],
      "metadata": {
        "id": "6ZdlAr6WwU36"
      }
    },
    {
      "cell_type": "code",
      "source": [
        "numbers = [10, 20, 30, 40, 50]\n",
        "numbers.reverse()\n",
        "print(numbers)\n"
      ],
      "metadata": {
        "colab": {
          "base_uri": "https://localhost:8080/"
        },
        "id": "zWEB_Pjrwbcg",
        "outputId": "09404590-a8ee-442a-9544-345d4c487f9f"
      },
      "execution_count": 19,
      "outputs": [
        {
          "output_type": "stream",
          "name": "stdout",
          "text": [
            "[50, 40, 30, 20, 10]\n"
          ]
        }
      ]
    },
    {
      "cell_type": "markdown",
      "source": [
        "11. Write a code to create a tuple with the elements 100, 200, 300 and print it."
      ],
      "metadata": {
        "id": "djKvPoIewhLh"
      }
    },
    {
      "cell_type": "code",
      "source": [
        "t = (100, 200, 300)\n",
        "print(t)\n"
      ],
      "metadata": {
        "colab": {
          "base_uri": "https://localhost:8080/"
        },
        "id": "_lp6c5O-wmhG",
        "outputId": "dc0f79b9-abae-4712-911e-bef08a354c98"
      },
      "execution_count": 20,
      "outputs": [
        {
          "output_type": "stream",
          "name": "stdout",
          "text": [
            "(100, 200, 300)\n"
          ]
        }
      ]
    },
    {
      "cell_type": "markdown",
      "source": [
        "12. Write a code to access the second-to-last element of the tuple ('red', 'green', 'blue', 'yellow')."
      ],
      "metadata": {
        "id": "jg1J7MhnwqtF"
      }
    },
    {
      "cell_type": "code",
      "source": [
        "colors = ('red', 'green', 'blue', 'yellow')\n",
        "print(colors[-2])\n"
      ],
      "metadata": {
        "colab": {
          "base_uri": "https://localhost:8080/"
        },
        "id": "CHzCKH4IwurZ",
        "outputId": "02425b93-43df-4f56-e9ce-e9ea6c8cd089"
      },
      "execution_count": 21,
      "outputs": [
        {
          "output_type": "stream",
          "name": "stdout",
          "text": [
            "blue\n"
          ]
        }
      ]
    },
    {
      "cell_type": "markdown",
      "source": [
        "13. Write a code to find the minimum number in the tuple (10, 20, 5, 15)."
      ],
      "metadata": {
        "id": "GYllvHf2w0Ga"
      }
    },
    {
      "cell_type": "code",
      "source": [
        "numbers = (10, 20, 5, 15)\n",
        "print(min(numbers))\n"
      ],
      "metadata": {
        "colab": {
          "base_uri": "https://localhost:8080/"
        },
        "id": "0VOh3Oj5w36_",
        "outputId": "90fca658-57c3-4fa7-9c62-46126202abe4"
      },
      "execution_count": 22,
      "outputs": [
        {
          "output_type": "stream",
          "name": "stdout",
          "text": [
            "5\n"
          ]
        }
      ]
    },
    {
      "cell_type": "markdown",
      "source": [
        "14. Write a code to find the index of the element \"cat\" in the tuple ('dog', 'cat', 'rabbit')."
      ],
      "metadata": {
        "id": "urYmvNefw8cK"
      }
    },
    {
      "cell_type": "code",
      "source": [
        "animals = ('dog', 'cat', 'rabbit')\n",
        "print(animals.index(\"cat\"))\n"
      ],
      "metadata": {
        "colab": {
          "base_uri": "https://localhost:8080/"
        },
        "id": "nauANhKSxAz1",
        "outputId": "67568135-acf3-4411-d2a8-6276b385a0fd"
      },
      "execution_count": 23,
      "outputs": [
        {
          "output_type": "stream",
          "name": "stdout",
          "text": [
            "1\n"
          ]
        }
      ]
    },
    {
      "cell_type": "markdown",
      "source": [
        "15. Write a code to create a tuple containing three different fruits and check if \"kiwi\" is in it."
      ],
      "metadata": {
        "id": "9NpUfCIqxF0X"
      }
    },
    {
      "cell_type": "code",
      "source": [
        "fruits = ('apple', 'banana', 'mango')\n",
        "print(\"kiwi\" in fruits)\n"
      ],
      "metadata": {
        "colab": {
          "base_uri": "https://localhost:8080/"
        },
        "id": "z8egaejOxKPt",
        "outputId": "581303d0-151e-4863-b05f-9cbe8d4319ab"
      },
      "execution_count": 24,
      "outputs": [
        {
          "output_type": "stream",
          "name": "stdout",
          "text": [
            "False\n"
          ]
        }
      ]
    },
    {
      "cell_type": "markdown",
      "source": [
        "16. Write a code to create a set with the elements 'a', 'b', 'c' and print it"
      ],
      "metadata": {
        "id": "lmHwcyuRxQjY"
      }
    },
    {
      "cell_type": "code",
      "source": [
        "s = {'a', 'b', 'c'}\n",
        "print(s)\n"
      ],
      "metadata": {
        "colab": {
          "base_uri": "https://localhost:8080/"
        },
        "id": "qsiFgp1DxU4r",
        "outputId": "3d897cb6-3b31-4e47-8f54-e9f708255412"
      },
      "execution_count": 25,
      "outputs": [
        {
          "output_type": "stream",
          "name": "stdout",
          "text": [
            "{'c', 'b', 'a'}\n"
          ]
        }
      ]
    },
    {
      "cell_type": "markdown",
      "source": [
        "17. Write a code to clear all elements from the set {1, 2, 3, 4, 5}."
      ],
      "metadata": {
        "id": "euex0tAHxZZX"
      }
    },
    {
      "cell_type": "code",
      "source": [
        "s = {1, 2, 3, 4, 5}\n",
        "s.clear()\n",
        "print(s)\n"
      ],
      "metadata": {
        "colab": {
          "base_uri": "https://localhost:8080/"
        },
        "id": "YqVXEgrVxd7g",
        "outputId": "69479fc0-874f-4bf8-8f98-29e8cc47ab19"
      },
      "execution_count": 26,
      "outputs": [
        {
          "output_type": "stream",
          "name": "stdout",
          "text": [
            "set()\n"
          ]
        }
      ]
    },
    {
      "cell_type": "markdown",
      "source": [
        "18. Write a code to remove the element 4 from the set {1, 2, 3, 4}."
      ],
      "metadata": {
        "id": "Ea0bGeChxjXP"
      }
    },
    {
      "cell_type": "code",
      "source": [
        "s = {1, 2, 3, 4}\n",
        "s.remove(4)\n",
        "print(s)\n"
      ],
      "metadata": {
        "colab": {
          "base_uri": "https://localhost:8080/"
        },
        "id": "KykGi-xWxnQ7",
        "outputId": "b3cf53dd-3f45-4204-a6f3-93bc06f29a98"
      },
      "execution_count": 27,
      "outputs": [
        {
          "output_type": "stream",
          "name": "stdout",
          "text": [
            "{1, 2, 3}\n"
          ]
        }
      ]
    },
    {
      "cell_type": "markdown",
      "source": [
        "19. Write a code to find the union of two sets {1, 2, 3} and {3, 4, 5}."
      ],
      "metadata": {
        "id": "Xbw3tNQhxsgA"
      }
    },
    {
      "cell_type": "code",
      "source": [
        "a = {1, 2, 3}\n",
        "b = {3, 4, 5}\n",
        "print(a.union(b))\n"
      ],
      "metadata": {
        "colab": {
          "base_uri": "https://localhost:8080/"
        },
        "id": "adLjqOqAxxAC",
        "outputId": "193cba1f-fcad-4956-eb3b-120462ecc518"
      },
      "execution_count": 28,
      "outputs": [
        {
          "output_type": "stream",
          "name": "stdout",
          "text": [
            "{1, 2, 3, 4, 5}\n"
          ]
        }
      ]
    },
    {
      "cell_type": "markdown",
      "source": [
        "20. Write a code to find the intersection of two sets {1, 2, 3} and {2, 3, 4}."
      ],
      "metadata": {
        "id": "4uLj6XA1x1rS"
      }
    },
    {
      "cell_type": "code",
      "source": [
        "a = {1, 2, 3}\n",
        "b = {2, 3, 4}\n",
        "print(a.intersection(b))\n"
      ],
      "metadata": {
        "colab": {
          "base_uri": "https://localhost:8080/"
        },
        "id": "okajg3vcx5l1",
        "outputId": "d9ab4599-4908-4ac9-82a0-162fc18dc149"
      },
      "execution_count": 29,
      "outputs": [
        {
          "output_type": "stream",
          "name": "stdout",
          "text": [
            "{2, 3}\n"
          ]
        }
      ]
    },
    {
      "cell_type": "markdown",
      "source": [
        "21. Write a code to create a dictionary with the keys \"name\", \"age\", and \"city\", and print it."
      ],
      "metadata": {
        "id": "RO_2_8eEx_n2"
      }
    },
    {
      "cell_type": "code",
      "source": [
        "info = {\n",
        "    \"name\": \"Sanskriti\",\n",
        "    \"age\": 21,\n",
        "    \"city\": \"Varanasi\"\n",
        "}\n",
        "print(info)\n"
      ],
      "metadata": {
        "colab": {
          "base_uri": "https://localhost:8080/"
        },
        "id": "Yyhynu8qyDZj",
        "outputId": "749f3852-07f2-4211-edce-fa2160404d82"
      },
      "execution_count": 30,
      "outputs": [
        {
          "output_type": "stream",
          "name": "stdout",
          "text": [
            "{'name': 'Sanskriti', 'age': 21, 'city': 'Varanasi'}\n"
          ]
        }
      ]
    },
    {
      "cell_type": "markdown",
      "source": [
        "22. Write a code to add a new key-value pair \"country\": \"USA\" to the dictionary {'name': 'John', 'age': 25}."
      ],
      "metadata": {
        "id": "zISdaL36yJGL"
      }
    },
    {
      "cell_type": "code",
      "source": [
        "person = {'name': 'John', 'age': 25}\n",
        "person['country'] = 'USA'\n",
        "print(person)\n"
      ],
      "metadata": {
        "colab": {
          "base_uri": "https://localhost:8080/"
        },
        "id": "AY3fdLNJyNni",
        "outputId": "43372ffe-c21e-450f-cb12-5dfaa76311d6"
      },
      "execution_count": 31,
      "outputs": [
        {
          "output_type": "stream",
          "name": "stdout",
          "text": [
            "{'name': 'John', 'age': 25, 'country': 'USA'}\n"
          ]
        }
      ]
    },
    {
      "cell_type": "markdown",
      "source": [
        "23. Write a code to access the value associated with the key \"name\" in the dictionary {'name': 'Alice', 'age': 30}."
      ],
      "metadata": {
        "id": "Ru_GcMmlyT4s"
      }
    },
    {
      "cell_type": "code",
      "source": [
        "data = {'name': 'Alice', 'age': 30}\n",
        "print(data['name'])\n"
      ],
      "metadata": {
        "colab": {
          "base_uri": "https://localhost:8080/"
        },
        "id": "WQV3bRa1yYZZ",
        "outputId": "3b797930-2cd0-470c-d230-7fcfeb078d76"
      },
      "execution_count": 32,
      "outputs": [
        {
          "output_type": "stream",
          "name": "stdout",
          "text": [
            "Alice\n"
          ]
        }
      ]
    },
    {
      "cell_type": "markdown",
      "source": [
        "24. Write a code to remove the key \"age\" from the dictionary {'name': 'Bob', 'age': 22, 'city': 'New York'}."
      ],
      "metadata": {
        "id": "hDUu6RMZydkk"
      }
    },
    {
      "cell_type": "code",
      "source": [
        "d = {'name': 'Bob', 'age': 22, 'city': 'New York'}\n",
        "del d['age']\n",
        "print(d)\n"
      ],
      "metadata": {
        "colab": {
          "base_uri": "https://localhost:8080/"
        },
        "id": "oOhCWu30yhQB",
        "outputId": "51eb6fd5-54cc-4257-9a67-198c0f0e9166"
      },
      "execution_count": 33,
      "outputs": [
        {
          "output_type": "stream",
          "name": "stdout",
          "text": [
            "{'name': 'Bob', 'city': 'New York'}\n"
          ]
        }
      ]
    },
    {
      "cell_type": "markdown",
      "source": [
        "25. Write a code to check if the key \"city\" exists in the dictionary {'name': 'Alice', 'city': 'Paris'}."
      ],
      "metadata": {
        "id": "rdl9jpAiyoMo"
      }
    },
    {
      "cell_type": "code",
      "source": [
        "d = {'name': 'Alice', 'city': 'Paris'}\n",
        "print(\"city\" in d)\n"
      ],
      "metadata": {
        "colab": {
          "base_uri": "https://localhost:8080/"
        },
        "id": "nQV19z85yt7E",
        "outputId": "0d4a1bff-e6b2-4c48-a8c6-4158e35a5fa0"
      },
      "execution_count": 34,
      "outputs": [
        {
          "output_type": "stream",
          "name": "stdout",
          "text": [
            "True\n"
          ]
        }
      ]
    },
    {
      "cell_type": "markdown",
      "source": [
        "26. Write a code to create a list, a tuple, and a dictionary, and print them all."
      ],
      "metadata": {
        "id": "xQcb3yfnyynf"
      }
    },
    {
      "cell_type": "code",
      "source": [
        "my_list = [1, 2, 3]\n",
        "my_tuple = (4, 5, 6)\n",
        "my_dict = {\"x\": 10, \"y\": 20}\n",
        "print(my_list)\n",
        "print(my_tuple)\n",
        "print(my_dict)\n"
      ],
      "metadata": {
        "colab": {
          "base_uri": "https://localhost:8080/"
        },
        "id": "AhMQS5JPy2K4",
        "outputId": "8493914c-f1d1-49ac-96f2-0ffe801f8d89"
      },
      "execution_count": 35,
      "outputs": [
        {
          "output_type": "stream",
          "name": "stdout",
          "text": [
            "[1, 2, 3]\n",
            "(4, 5, 6)\n",
            "{'x': 10, 'y': 20}\n"
          ]
        }
      ]
    },
    {
      "cell_type": "markdown",
      "source": [
        "27. Write a code to create a list of 5 random numbers between 1 and 100, sort it in ascending order, and print the\n",
        "result.(replaced)"
      ],
      "metadata": {
        "id": "Zute6p4Py6QQ"
      }
    },
    {
      "cell_type": "code",
      "source": [
        "import random\n",
        "numbers = random.sample(range(1, 101), 5)\n",
        "numbers.sort()\n",
        "print(numbers)\n"
      ],
      "metadata": {
        "colab": {
          "base_uri": "https://localhost:8080/"
        },
        "id": "johsRk0Ly_QD",
        "outputId": "710f28c1-ca1a-4971-b399-52998f030b90"
      },
      "execution_count": 36,
      "outputs": [
        {
          "output_type": "stream",
          "name": "stdout",
          "text": [
            "[2, 36, 54, 57, 70]\n"
          ]
        }
      ]
    },
    {
      "cell_type": "markdown",
      "source": [
        "28. Write a code to create a list with strings and print the element at the third index."
      ],
      "metadata": {
        "id": "NMDs6dC2zETw"
      }
    },
    {
      "cell_type": "code",
      "source": [
        "words = [\"apple\", \"banana\", \"cherry\", \"date\", \"fig\"]\n",
        "print(words[3])\n"
      ],
      "metadata": {
        "colab": {
          "base_uri": "https://localhost:8080/"
        },
        "id": "bOR3pb_YzIy-",
        "outputId": "45f6827a-a469-4a4b-e608-5ef1a38ceb07"
      },
      "execution_count": 37,
      "outputs": [
        {
          "output_type": "stream",
          "name": "stdout",
          "text": [
            "date\n"
          ]
        }
      ]
    },
    {
      "cell_type": "markdown",
      "source": [
        "29. Write a code to combine two dictionaries into one and print the result"
      ],
      "metadata": {
        "id": "V5vFvlXBzNmd"
      }
    },
    {
      "cell_type": "code",
      "source": [
        "dict1 = {\"a\": 1, \"b\": 2}\n",
        "dict2 = {\"c\": 3, \"d\": 4}\n",
        "combined = {**dict1, **dict2}\n",
        "print(combined)\n"
      ],
      "metadata": {
        "colab": {
          "base_uri": "https://localhost:8080/"
        },
        "id": "aoUooGzLzR8x",
        "outputId": "700f022f-2b04-4d84-bb11-d9d5584617ac"
      },
      "execution_count": 38,
      "outputs": [
        {
          "output_type": "stream",
          "name": "stdout",
          "text": [
            "{'a': 1, 'b': 2, 'c': 3, 'd': 4}\n"
          ]
        }
      ]
    },
    {
      "cell_type": "markdown",
      "source": [
        "30. Write a code to convert a list of strings into a set"
      ],
      "metadata": {
        "id": "FO0onlQFzXJB"
      }
    },
    {
      "cell_type": "code",
      "source": [
        "string_list = [\"apple\", \"banana\", \"apple\", \"cherry\"]\n",
        "string_set = set(string_list)\n",
        "print(string_set)\n"
      ],
      "metadata": {
        "colab": {
          "base_uri": "https://localhost:8080/"
        },
        "id": "-kwiUG9Izaqq",
        "outputId": "4cf03e2a-3c1a-40ff-dcf9-9b26eec29b9b"
      },
      "execution_count": 39,
      "outputs": [
        {
          "output_type": "stream",
          "name": "stdout",
          "text": [
            "{'cherry', 'apple', 'banana'}\n"
          ]
        }
      ]
    }
  ]
}